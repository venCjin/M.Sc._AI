{
 "cells": [
  {
   "cell_type": "markdown",
   "metadata": {},
   "source": [
    "### Load env variables"
   ]
  },
  {
   "cell_type": "code",
   "execution_count": 1,
   "metadata": {},
   "outputs": [],
   "source": [
    "import os\n",
    "from dotenv import load_dotenv\n",
    "\n",
    "load_dotenv()\n",
    "\n",
    "openai_api_key = os.getenv(\"OPENAI_API_KEY\")\n",
    "pinecone_api_key = os.getenv(\"PINECONE_API_KEY\")"
   ]
  },
  {
   "cell_type": "code",
   "execution_count": null,
   "metadata": {},
   "outputs": [],
   "source": [
    "### Test connection to OpenAI API via api-key\n",
    "\n",
    "### Init LLM\n",
    "# llm = ChatOpenAI(\n",
    "#     temperature=0,\n",
    "#     openai_api_key=openai_api_key,\n",
    "#     model=\"gpt-3.5-turbo\",\n",
    "# )\n",
    "\n",
    "### Ask question and get answer\n",
    "# q = \"What is AI?\"\n",
    "# a = llm.invoke(q)\n",
    "# print(a)"
   ]
  },
  {
   "cell_type": "markdown",
   "metadata": {},
   "source": [
    "# Large Language Model as a tool for extracting knowledge from text\n",
    "Idea from [pjaskulski](https://github.com/pjaskulski/gpt_historical_text/blob/main/README.md)\n",
    "\n",
    "Because his work is based on data that is not publicly available ([src1](https://rcin.org.pl/ihpan/dlibra/publication/4137#description) [src2](https://fbc.pionier.net.pl/details/nnWR8W7)), I will use wikipedia article as a source."
   ]
  },
  {
   "cell_type": "markdown",
   "metadata": {},
   "source": [
    "## Download wikipedia dataset ([huggingface source](https://huggingface.co/datasets/wikipedia))\n",
    "As stated in source, we need to install `mwparserfromhell` for lib to be able to parse loaded data. \n",
    "I specified also newest dump of polish wikipedia ([20240420](https://dumps.wikimedia.org/plwiki/20240420/)) to be downloaded."
   ]
  },
  {
   "cell_type": "code",
   "execution_count": 8,
   "metadata": {},
   "outputs": [
    {
     "name": "stdout",
     "output_type": "stream",
     "text": [
      "Note: you may need to restart the kernel to use updated packages.\n"
     ]
    }
   ],
   "source": [
    "%pip install -qU mwparserfromhell"
   ]
  },
  {
   "cell_type": "code",
   "execution_count": 2,
   "metadata": {},
   "outputs": [
    {
     "name": "stderr",
     "output_type": "stream",
     "text": [
      "Downloading data files: 100%|██████████| 1/1 [00:00<00:00, 2519.10it/s]\n",
      "Extracting data files: 100%|██████████| 1/1 [00:00<00:00, 296.54it/s]\n",
      "Downloading data files: 100%|██████████| 1/1 [00:00<00:00, 823.87it/s]\n",
      "Generating train split: 0 examples [00:00, ? examples/s]"
     ]
    },
    {
     "name": "stdout",
     "output_type": "stream",
     "text": [
      "Extracting content fromExtracting content fromExtracting content from Extracting content from  /Users/priv/.cache/huggingface/datasets/downloads/c16fb72f3265b9811c5c7db5044de02c35b8fe0da562bfdfbd6d578cef260a64/Users/priv/.cache/huggingface/datasets/downloads/0c0a0496e0aea38989c77b2041e031a2f26e4e4190f75d2acb752bb73c197b4b \n",
      "/Users/priv/.cache/huggingface/datasets/downloads/e2a700b16446a0fa7699a3ddabc3af1ac82e5e53412706833f3b060958e0f7c7\n",
      "/Users/priv/.cache/huggingface/datasets/downloads/74da23b795d370b9cee643f4fb72c9628300470ef7082c422a2f9909333dd850\n",
      "\n"
     ]
    },
    {
     "name": "stderr",
     "output_type": "stream",
     "text": [
      "Generating train split: 455000 examples [09:13, 929.64 examples/s] "
     ]
    },
    {
     "name": "stdout",
     "output_type": "stream",
     "text": [
      "Extracting content from /Users/priv/.cache/huggingface/datasets/downloads/ed6e18ad2c0299372b5f8dd5cc5baaff7a84c931bdf44adcdf6899ae0213f0f5\n"
     ]
    },
    {
     "name": "stderr",
     "output_type": "stream",
     "text": [
      "Generating train split: 686000 examples [13:05, 908.80 examples/s] "
     ]
    },
    {
     "name": "stdout",
     "output_type": "stream",
     "text": [
      "Extracting content from /Users/priv/.cache/huggingface/datasets/downloads/972c6800931999319fb2b8f1b2d9dcb5fcfa855bb03c6a1e0ece78368d45db1b\n"
     ]
    },
    {
     "name": "stderr",
     "output_type": "stream",
     "text": [
      "Generating train split: 1236064 examples [27:38, 492.70 examples/s]"
     ]
    },
    {
     "name": "stdout",
     "output_type": "stream",
     "text": [
      "Extracting content from /Users/priv/.cache/huggingface/datasets/downloads/ec52f45c9e6e47f0770a2a2bd6513f7376d082675cdd8b6c7f8ce009eae4e39a\n"
     ]
    },
    {
     "name": "stderr",
     "output_type": "stream",
     "text": [
      "Generating train split: 1611471 examples [51:48, 518.35 examples/s]\n"
     ]
    },
    {
     "data": {
      "text/plain": [
       "Dataset({\n",
       "    features: ['id', 'url', 'title', 'text'],\n",
       "    num_rows: 10000\n",
       "})"
      ]
     },
     "execution_count": 2,
     "metadata": {},
     "output_type": "execute_result"
    }
   ],
   "source": [
    "from datasets import load_dataset\n",
    "\n",
    "data = load_dataset(\"wikipedia\", language=\"pl\", date=\"20240420\", split='train[:10000]', num_proc=4)\n",
    "data"
   ]
  },
  {
   "cell_type": "markdown",
   "metadata": {},
   "source": [
    "Get all data and cache it (save to local disk, sync with git-lfs (see `data_cache/dataset/info.md`))"
   ]
  },
  {
   "cell_type": "code",
   "execution_count": 5,
   "metadata": {},
   "outputs": [
    {
     "name": "stderr",
     "output_type": "stream",
     "text": [
      "/Users/priv/dev/M.Sc._AI/.venv/lib/python3.12/site-packages/datasets/table.py:1421: FutureWarning: promote has been superseded by promote_options='default'.\n",
      "  table = cls._concat_blocks(blocks, axis=0)\n"
     ]
    }
   ],
   "source": [
    "data2 = load_dataset(\"wikipedia\", language=\"pl\", date=\"20240420\", num_proc=4)\n",
    "data2 = data2[\"train\"]"
   ]
  },
  {
   "cell_type": "code",
   "execution_count": 16,
   "metadata": {},
   "outputs": [
    {
     "data": {
      "text/plain": [
       "Dataset({\n",
       "    features: ['id', 'url', 'title', 'text'],\n",
       "    num_rows: 1611471\n",
       "})"
      ]
     },
     "execution_count": 16,
     "metadata": {},
     "output_type": "execute_result"
    }
   ],
   "source": [
    "data2"
   ]
  },
  {
   "cell_type": "code",
   "execution_count": 17,
   "metadata": {},
   "outputs": [
    {
     "name": "stderr",
     "output_type": "stream",
     "text": [
      "Saving the dataset (7/7 shards): 100%|██████████| 1611471/1611471 [00:07<00:00, 212601.21 examples/s]\n"
     ]
    }
   ],
   "source": [
    "data2.save_to_disk(\"data_cache/dataset/wikipediaPL\")"
   ]
  },
  {
   "cell_type": "markdown",
   "metadata": {},
   "source": [
    "## Load dataset from local cache"
   ]
  },
  {
   "cell_type": "code",
   "execution_count": 4,
   "metadata": {},
   "outputs": [
    {
     "name": "stderr",
     "output_type": "stream",
     "text": [
      "/Users/priv/dev/M.Sc._AI/.venv/lib/python3.12/site-packages/datasets/table.py:1421: FutureWarning: promote has been superseded by promote_options='default'.\n",
      "  table = cls._concat_blocks(blocks, axis=0)\n"
     ]
    }
   ],
   "source": [
    "from datasets import load_from_disk\n",
    "\n",
    "data = load_from_disk(\"./data_cache/dataset/wikipediaPL\")"
   ]
  },
  {
   "cell_type": "code",
   "execution_count": 5,
   "metadata": {},
   "outputs": [
    {
     "data": {
      "text/plain": [
       "Dataset({\n",
       "    features: ['id', 'url', 'title', 'text'],\n",
       "    num_rows: 1611471\n",
       "})"
      ]
     },
     "execution_count": 5,
     "metadata": {},
     "output_type": "execute_result"
    }
   ],
   "source": [
    "data"
   ]
  },
  {
   "cell_type": "markdown",
   "metadata": {},
   "source": [
    "## Get article and ask LLM to generate knowledge graph"
   ]
  },
  {
   "cell_type": "code",
   "execution_count": 6,
   "metadata": {},
   "outputs": [
    {
     "name": "stderr",
     "output_type": "stream",
     "text": [
      "Creating CSV from Arrow format: 100%|██████████| 1612/1612 [00:48<00:00, 33.34ba/s]\n"
     ]
    },
    {
     "data": {
      "text/plain": [
       "2992727740"
      ]
     },
     "execution_count": 6,
     "metadata": {},
     "output_type": "execute_result"
    }
   ],
   "source": [
    "data.to_csv(\"temp/wikipl.csv\")"
   ]
  },
  {
   "cell_type": "code",
   "execution_count": 9,
   "metadata": {},
   "outputs": [
    {
     "name": "stderr",
     "output_type": "stream",
     "text": [
      "Creating CSV from Arrow format: 100%|██████████| 1612/1612 [00:09<00:00, 177.18ba/s]\n"
     ]
    },
    {
     "data": {
      "text/plain": [
       "124401939"
      ]
     },
     "execution_count": 9,
     "metadata": {},
     "output_type": "execute_result"
    }
   ],
   "source": [
    "data.to_csv(\"temp/a.csv\", columns=[\"url\", \"title\"])"
   ]
  },
  {
   "cell_type": "code",
   "execution_count": 10,
   "metadata": {},
   "outputs": [
    {
     "data": {
      "text/plain": [
       "{'id': '32',\n",
       " 'url': 'https://pl.wikipedia.org/wiki/Agatha%20Christie',\n",
       " 'title': 'Agatha Christie',\n",
       " 'text': \"Agatha Christie, lady Mallowan, DBE, właśc. Agatha Mary Clarissa Miller Christie (ur. 15 września 1890 w Torquay, zm. 12 stycznia 1976 w Wallingford) – brytyjska autorka powieści kryminalnych i obyczajowych.\\n\\nNajbardziej znana na świecie pisarka kryminałów oraz najlepiej sprzedająca się autorka wszech czasów. Wydano ponad miliard egzemplarzy jej książek w języku angielskim oraz drugi miliard przetłumaczonych na 45 języków obcych. Pod pseudonimem Mary Westmacott wydała kilka powieści obyczajowych, które również cieszyły się popularnością.\\n\\nChristie wydała ponad 90 powieści i sztuk teatralnych. Ich akcja toczyła się głównie w zamkniętych pomieszczeniach, a mordercą mógł być tylko jeden z mieszkańców. Wniosła wiele nowych rozwiązań do tradycyjnej sztuki pisania kryminałów. Niektóre z jej powieści mają zaskakujące i wcześniej niespotykane w kryminałach rozwiązania, np. Zabójstwo Rogera Ackroyda czy Morderstwo w Orient Expressie. Jej sztuka Pułapka na myszy, wystawiona po raz pierwszy w 1952 roku w Londynie, osiągnęła liczbę ponad dwudziestu tysięcy przedstawień.\\n\\nWiele z jej powieści i opowiadań zostało zekranizowanych, niektóre wielokrotnie (Morderstwo w Orient Expressie, Śmierć na Nilu czy 4.50 z Paddington). Na podstawie dzieł autorki powstały także seriale telewizyjne i słuchowiska radiowe.\\n\\nWszystkie utwory objęte były w 1951 roku w Polsce zapisem cenzury, podlegając natychmiastowemu wycofaniu z bibliotek.\\n\\nŻyciorys \\n\\nUrodziła się 15 września 1890 w nadmorskim Torquay w południowo-zachodniej Anglii w hrabstwie Devon, gdzie mieściła się Ashfield, posiadłość jej matki. Była trzecim dzieckiem Clary i Fryderyka Millerów, miała siostrę Margaret i brata Louisa. Decyzją matki, uczyła się w domu. W 1901 zmarł jej ojciec.\\n\\n12 października 1912 podczas balu w rodzinnym Torquay poznała starszego od siebie o rok pułkownika Archibalda Christie. W wigilię 1914 wzięła z nim ślub. Mieli córkę, Rosalind Hicks (ur. 5 sierpnia 1919, zm. 28 października 2004). Podczas I wojny światowej pracowała jako pielęgniarka w szpitalu, asystentka w aptece oraz jako technik farmaceutyczny, dzięki czemu poznała właściwości trucizn, co wykorzystywała później w swoich powieściach.\\n\\nW 1926 zmarła jej matka, brat uzależnił się od narkotyków, wydawcy nie spodobała się powieść „Zabójstwo Rogera Ackroyda”, a jej mąż zakochał się w innej kobiecie (Nancy Neele) i zażądał rozwodu. W grudniu 1926 zaginęła na 11 dni, co wywołało poruszenie w prasie (m. in. The New York Times, Daily Herald). Przebywała wówczas w Hydropathic Hotel w uzdrowiskowym Harrogate w Yorkshire, gdzie zameldowała się jako Teresa Neele. W tym czasie popadła w amnezję. W 1928 rozwiodła się z mężem. Wskutek problemów w życiu osobistym skupiła się na pisaniu kolejnych książek i podróżowaniu po świecie.\\n\\nW 1930 wyszła za młodszego od niej o 13 lat archeologa Maxa Mallowana, którego poznała podczas jednego z wyjazdów w rejon Zatoki Perskiej. Wyjeżdżała z nim na wykopaliska na Bliskim Wschodzie, który później stał się tłem kilku jej powieści (m.in. Śmierci na Nilu i Morderstwie w Mezopotamii). Akcja innych dzieł autorki rozgrywa się w Torquay, miejscu jej narodzin.\\n\\nW 1971 otrzymała Order Imperium Brytyjskiego.\\n\\nKlub Detektywów \\nW 1930 przyłączyła się do Klubu Detektywów zrzeszającego autorów powieści kryminalnych, do którego z twórców angielskich należeli także m.in.: Dorothy L. Sayers i G.K. Chesterton. W 1931 wspólnie z innymi członkami stowarzyszenia napisała powieść The Floating Admiral. Pisarka na krótko została usunięta z klubu, ponieważ sprzeciwiła się zasadom sformułowanym przez członka klubu – Ronalda Knoksa. Jedną z owych zasad była reguła „ratio”, wykluczająca ingerencję sił nadprzyrodzonych w akcję powieściową. Niedozwolone było również utożsamianie mordercy z detektywem lub narratorem.\\n\\nW 1958 pisarka Dorothy L. Sayers złożyła dymisję, a Christie przejęła jej obowiązki prezesa Klubu Detektywów.\\n\\nPublikacje\\n\\nGłówni bohaterowie: Herkules Poirot i panna Marple \\nAgatha Christie stworzyła słynne postaci literackie dwojga detektywów: Belga Herkulesa Poirota oraz starszej pani, detektywki amatorki, panny Marple. Będąc jeszcze u szczytu kariery, Christie napisała dwie powieści z tymi bohaterami – z zastrzeżeniem, że mają się ukazać dopiero po jej śmierci (tj. kilkadziesiąt lat później). Miały to być ostatnie zagadki do rozwiązania dla Poirota i Marple. W ostatniej sprawie kryminalnej rozwiązywanej przez belgijskiego detektywa zostaje on uśmiercony, bo – jak wyjaśniła w swym pamiętniku autorka – zawsze uważała go za nieznośnego. Natomiast panna Marple (której cechy wzorowane były na babce twórczyni) po rozwiązaniu tajemnicy Uśpionego morderstwa spokojnie powraca do swojej wioski.\\n\\nWypowiedzi Herculesa Poirot zebrane zostały w książce „Małe szare komórki. Poirot w cytatach”.\\n\\nDla obojga głównych bohaterów powieści Agaty Christie opracowane zostały biografie: \\n \\n \\n\\nSpadkobiercy pisarki postanowili kontynuować cykl z Herkulesem Poirot. Na autorkę wybrana została Sophie Hannah. W Polsce ukazały się:\\n\\nPowieści kryminalne\\n\\nZbiory opowiadań \\nZbiory opowiadań kryminalnych autorki dzieli się powszechnie na dwie główne grupy: wydane w Wielkiej Brytanii (łącznie 14) oraz Stanach Zjednoczonych (15). Spośród 21 najpopularniejszych tytułów tylko 7 (biorąc pod uwagę dobór i liczbę utworów) ukazało się w obu krajach w niezmienionej formie.\\n\\nPolskie wydania książek Agathy Christie zasadniczo oparte są na wydaniach brytyjskich. Wyjątek stanowi amerykański zbiór „Trzy ślepe myszki”, który zawiera niewydane dotąd w Wielkiej Brytanii w formie książkowej opowiadanie o tym samym tytule. Z kolei „Bożonarodzeniowa przygoda” (pierwotna, krótsza wersja „Tajemnicy gwiazdkowego puddingu”) znajdująca się zbiorze „Dopóki starczy światła” jest jedynym, które nigdy nie znalazło się w zbiorze amerykańskim.\\n\\nPośmiertnie:\\n\\nInne kompilacje opowiadań:\\n\\nPojedyncze opowiadania \\n 1922 Żona Ke\\xadni\\xadty (The Wife of the Kenite) – opublikowane w czasopiśmie The Home: An Australian Quarterly\\n 1936 Poirot and the Regatta Mystery (opublikowane w Chicago Tribune)\\n 2009 Pojmanie Cerbera (The Capture of Cerberus, wydane w Agatha Christie's Secret Notebooks: Fifty Years of Mysteries in the Making autorstwa Johna Currana); wyszło po polsku w: Sekretne zapiski Agaty Christie i Dwanaście prac Herkulesa\\n 2009 The Incident of the Dog's Ball (Agatha Christie's Secret Notebooks: Fifty Years of Mysteries in the Making) – napisane w 1933, adaptowane później jako powieść Niemy świadek; wyszło po polsku w: Sekretne zapiski Agaty Christie\\n 2014 Hercule Poirot and the Greenshore Folly - napisane w 1954, adaptowane jako powieść Zbrodnia na festynie\\n\\nSztuki teatralne zaadaptowane na powieści przez Charlesa Osborne’a \\n\\nJako współautorka:\\n\\n 1931 The Floating Admiral razem z G.K. Chestertonem, Dorothy L. Sayers i innymi członkami Detection Club.\\n\\nRomanse napisane pod pseudonimem Mary Westmacott\\n\\nKsiążki autobiograficzne \\n 1946 Opowiedzcie, jak tam żyjecie (Come, Tell Me How You Live) jako Agatha Christie Mallowan\\n 1977 Autobiografia (An Autobiography)\\n 2012 Moja podróż po imperium (The Grand Tour: Around the World with the Queen of Mystery)\\n\\nBohaterowie powieści Agathy Christie \\n Herkules Poirot – belgijski detektyw\\n Jane Marple – staruszka, detektyw-amator\\n Kapitan Arthur Hastings – przyjaciel Poirota\\n Inspektor Japp – policjant, znajomy Poirota\\n Ariadna Oliver – pisarka kryminałów, znajoma Poirota\\n Panna Felicity Lemon – wierna sekretarka Herkulesa Poirota\\n Tommy i Tuppence Beresford – para detektywów-amatorów\\n Pułkownik Race – stary przyjaciel Poirota\\n Nadinspektor Battle – policjant ze Scotland Yardu\\n Dolly Bantry – przyjaciółka panny Marple\\n Sir Henry Clithering – przyjaciel panny Marple, emerytowany komisarz policji\\n Vera Rossakoff – rosyjska hrabina\\n Pan Jason Rafiel – staruszek, przyjaciel panny Marple\\n Harley Quin – detektyw „nie z tego świata”, patrz: Tajemniczy pan Quin\\n Inspektor Miller – antagonista Herkulesa Poirota\\n Parker Pyne – ekscentryczny detektyw, patrz: Parker Pyne na tropie\\n Luke Fitzwilliam – emerytowany policjant, patrz: Morderstwo to nic trudnego\\n\\nPrzypisy\\n\\nBibliografia\\n\\nLinki zewnętrzne \\n Strona poświęcona Agacie Christie i jej twórczości\\n Oficjalna angielskojęzyczna strona Agathy Christie\\n \\n Agatha Christie w bazie Filmweb\\n\\n \\nAngielscy prozaicy XX wieku\\nAutorzy objęci zapisem cenzury w Polskiej Rzeczypospolitej Ludowej\\nBrytyjscy autorzy powieści kryminalnych i sensacyjnych\\nNiewyjaśnione zaginięcia\\nProzaicy anglojęzyczni\\nUrodzeni w 1890\\nZmarli w 1976\"}"
      ]
     },
     "execution_count": 10,
     "metadata": {},
     "output_type": "execute_result"
    }
   ],
   "source": [
    "index = 23 #Agatha Christie\n",
    "data[index]"
   ]
  }
 ],
 "metadata": {
  "kernelspec": {
   "display_name": ".venv",
   "language": "python",
   "name": "python3"
  },
  "language_info": {
   "codemirror_mode": {
    "name": "ipython",
    "version": 3
   },
   "file_extension": ".py",
   "mimetype": "text/x-python",
   "name": "python",
   "nbconvert_exporter": "python",
   "pygments_lexer": "ipython3",
   "version": "3.12.3"
  }
 },
 "nbformat": 4,
 "nbformat_minor": 2
}

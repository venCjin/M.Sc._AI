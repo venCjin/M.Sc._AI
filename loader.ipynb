{
 "cells": [
  {
   "cell_type": "markdown",
   "metadata": {},
   "source": [
    "### Imports"
   ]
  },
  {
   "cell_type": "code",
   "execution_count": 1,
   "metadata": {
    "metadata": {}
   },
   "outputs": [],
   "source": [
    "import os\n",
    "from dotenv import load_dotenv\n",
    "\n",
    "load_dotenv(\"docker_viina/.env\")\n",
    "\n",
    "url = os.getenv(\"NEO4J_URI\")\n",
    "username = os.getenv(\"NEO4J_USERNAME\")\n",
    "password = os.getenv(\"NEO4J_PASSWORD\")\n",
    "ollama_base_url = os.getenv(\"OLLAMA_BASE_URL\")\n",
    "embedding_model_name = os.getenv(\"EMBEDDING_MODEL\")\n",
    "# Remapping for Langchain Neo4j integration\n",
    "os.environ[\"NEO4J_URL\"] = url"
   ]
  },
  {
   "cell_type": "code",
   "execution_count": null,
   "metadata": {
    "metadata": {}
   },
   "outputs": [],
   "source": [
    "%pip install -qU -r docker_viina/requirements.txt"
   ]
  },
  {
   "cell_type": "code",
   "execution_count": null,
   "metadata": {},
   "outputs": [],
   "source": [
    "%pip install neo4j"
   ]
  },
  {
   "cell_type": "code",
   "execution_count": 21,
   "metadata": {},
   "outputs": [
    {
     "data": {
      "text/plain": [
       "[]"
      ]
     },
     "execution_count": 21,
     "metadata": {},
     "output_type": "execute_result"
    }
   ],
   "source": [
    "import requests\n",
    "from langchain_community.graphs import Neo4jGraph\n",
    "# import streamlit as st\n",
    "# from streamlit.logger import get_logger\n",
    "# from chains import load_embedding_model\n",
    "# from utils import create_constraints, create_vector_index\n",
    "# from PIL import Image\n",
    "\n",
    "# if Neo4j is local, you can go to http://localhost:7474/ to browse the database\n",
    "neo4j_graph = Neo4jGraph(url=url, username=username, password=password)\n",
    "\n",
    "create_actors_and_types = \"\"\"MERGE (a_rus: Actor {name:'a_rus', description: 'Event initiated by Russian or Russian-aligned armed forces'});\n",
    "    MERGE (a_ukr: Actor {name:'a_ukr', description: 'Event initiated by Ukrainian or Ukrainian-aligned armed forces'});\n",
    "    MERGE (a_civ: Actor {name:'a_civ', description: 'Event initiated by civilians'});\n",
    "    MERGE (a_other: Actor {name:'a_other', description: 'Event initiated by a third party (e.g. U.S., EU, Red Cross)'});\n",
    "    MERGE (t_mil: Type {name:'t_mil', description: 'Event is about war/military operations'});\n",
    "    MERGE (t_loc: Type {name:'t_loc', description: 'Event report includes reference to specific location'});\n",
    "    MERGE (t_san: Type {name:'t_san', description: 'Event report mentions economic sanctions imposed on Russia'});\n",
    "    MERGE (t_aad: Type {name:'t_aad', description: 'Anti-air defense, Buk, shoulder-fired missiles (Igla, Strela, Stinger)'});\n",
    "    MERGE (t_airstrike: Type {name:'t_airstrike', description: 'Air strike, strategic bombing, helicopter strike'});\n",
    "    MERGE (t_airalert: Type {name:'t_airalert', description: 'Air raid siren/alert'});\n",
    "    MERGE (t_armor: Type {name:'t_armor', description: 'Tank battle or assault'});\n",
    "    MERGE (t_arrest: Type {name:'t_arrest', description: 'Arrest by security services or detention of prisoners of war'});\n",
    "    MERGE (t_artillery: Type {name:'t_artillery', description: 'Shelling by field artillery, howitzer, mortar, or rockets like Grad/BM-21, Uragan/BM-27, other Multiple Launch Rocket System (MRLS)'});\n",
    "    MERGE (t_control: Type {name:'t_control', description: 'Establishment/claim of territorial control over population center'});\n",
    "    MERGE (t_firefight: Type {name:'t_firefight', description: 'Any exchange of gunfire with handguns, semi-automatic rifles, automatic rifles, machine guns, rocket-propelled grenades (RPGs)'});\n",
    "    MERGE (t_ied: Type {name:'t_ied', description: 'Improvised explosive device, roadside bomb, landmine, car bomb, explosion'});\n",
    "    MERGE (t_raid: Type {name:'t_raid', description: 'Assault/attack by paratroopers or special forces, usually followed by a retreat'});\n",
    "    MERGE (t_occupy: Type {name:'t_occupy', description: 'Occupation of territory or building'});\n",
    "    MERGE (t_property: Type {name:'t_property', description: 'Destruction of property or infrastructure'});\n",
    "    MERGE (t_cyber: Type {name:'t_cyber', description: 'Cyber operations, including DDOS attacks, website defacement'});\n",
    "    MERGE (t_hospital: Type {name:'t_hospital', description: 'Attacks on hospitals and humanitarian convoys'});\n",
    "    MERGE (t_milcas: Type {name:'t_milcas', description: 'Event report mentions military casualties'});\n",
    "    MERGE (t_civcas: Type {name:'t_civcas', description: 'Event report mentions civilian casualties'});\"\"\"\n",
    "for line in create_actors_and_types.split('\\n'):\n",
    "    neo4j_graph.query(line)\n",
    "# neo4j_graph.query(create_actors_and_types)\n",
    "\n",
    "# create_constraints\n",
    "neo4j_graph.query(\n",
    "    \"CREATE CONSTRAINT actor_name IF NOT EXISTS FOR (a:Actor) REQUIRE (a.name) IS UNIQUE\"\n",
    ")\n",
    "neo4j_graph.query(\n",
    "    \"CREATE CONSTRAINT type_name IF NOT EXISTS FOR (t:Type) REQUIRE (t.name) IS UNIQUE\"\n",
    ")\n",
    "neo4j_graph.query(\n",
    "    \"CREATE CONSTRAINT event_id IF NOT EXISTS FOR (e:Event) REQUIRE (e.id_e) IS UNIQUE\"\n",
    ")"
   ]
  },
  {
   "cell_type": "code",
   "execution_count": null,
   "metadata": {},
   "outputs": [],
   "source": [
    "## test  csv\n",
    "import csv\n",
    "\n",
    "with open(\"docker_viina/import/test_1pd.csv\", \"r\" ) as theFile:\n",
    "    reader = csv.DictReader(theFile, delimiter=',')\n",
    "    # i = 0\n",
    "    for line in reader:\n",
    "        # i+=1\n",
    "        # if(i==2):\n",
    "        #     print(\"...\")\n",
    "        #     break\n",
    "            \n",
    "        print(line)"
   ]
  },
  {
   "cell_type": "code",
   "execution_count": 17,
   "metadata": {},
   "outputs": [],
   "source": [
    "import csv\n",
    "\n",
    "csv_1pd = open(\"docker_viina/import/1pd.csv\", \"w\", newline=\"\")\n",
    "\n",
    "with open(\"docker_viina/import/event_1pd_latest_2024.csv\", \"r\" ) as theFile:\n",
    "# with open(\"docker_viina/import/test_1pd.csv\", \"r\" ) as theFile:\n",
    "    reader = csv.DictReader(theFile, delimiter=',')\n",
    "    \n",
    "    fieldnames = [\"event_id_1pd\", \"types\", \"actors\"]\n",
    "    writer = csv.DictWriter(csv_1pd, fieldnames=fieldnames, delimiter=',')\n",
    "    writer.writeheader()\n",
    "    \n",
    "    # data = []\n",
    "    a_headers :list[str] = []\n",
    "    t_headers :list[str] = []\n",
    "    i = 0\n",
    "    for line in reader:\n",
    "        if(i==0):\n",
    "            for h in line.keys():\n",
    "                if(h.startswith(\"a_\")):\n",
    "                    a_headers.append(h)\n",
    "                if(h.startswith(\"t_\")):\n",
    "                    t_headers.append(h)\n",
    "        # ---\n",
    "        line[\"types\"] = []\n",
    "        for t in t_headers:\n",
    "            if(line[t] == '1'):\n",
    "                line[\"types\"].append(t.removesuffix(\"_b\"))\n",
    "        # ---\n",
    "        line[\"actors\"] = []\n",
    "        for a in a_headers:\n",
    "            if(line[a] == '1'):\n",
    "                line[\"actors\"].append(a.removesuffix(\"_b\"))\n",
    "        # ---\n",
    "        # data.append(line)\n",
    "        writer.writerow({\"event_id_1pd\":line[\"event_id_1pd\"], \"types\":line[\"types\"], \"actors\":line[\"actors\"]})\n",
    "        # ---\n",
    "        i+=1\n",
    "        # ---\n",
    "    # print({\"data\": data})\n",
    "    # neo4j_graph.query(import_query, {\"data\": data})\n",
    "csv_1pd.flush()\n",
    "csv_1pd.close()"
   ]
  },
  {
   "cell_type": "code",
   "execution_count": null,
   "metadata": {},
   "outputs": [],
   "source": [
    "# info.csv - merge instiejace Eventy po 'id_1pd' i set tytul itp\n",
    "\n",
    "import_query = \"\"\"\n",
    "UNWIND $data AS row\n",
    "//(CASE row.lang\n",
    "//WHEN 'ua' THEN 'Ukrainian'\n",
    "//WHEN 'ru' THEN 'Russian'\n",
    "//ELSE 'Unknown' END) AS language\n",
    "MERGE \n",
    "    (e: Event {\n",
    "        id_1pd: row.event_id_1pd,\n",
    "        id_e: row.event_ids[0],\n",
    "        //date: row.date,\n",
    "        //time: row.\n",
    "        //language: language,\n",
    "        //title: row.\n",
    "        //url: row.\n",
    "        //geonameid: row.geonameid\n",
    "    })\n",
    "FOREACH (type IN row.types |\n",
    "    MERGE (e)-[:category]--(t:Type {name:type})\n",
    ")\n",
    "FOREACH (actor IN row.actors |\n",
    "    MERGE (e)-[:category]--(a:Actor {name:actor})\n",
    ")\n",
    "\"\"\""
   ]
  }
 ],
 "metadata": {
  "kernelspec": {
   "display_name": ".venv",
   "language": "python",
   "name": "python3"
  },
  "language_info": {
   "codemirror_mode": {
    "name": "ipython",
    "version": 3
   },
   "file_extension": ".py",
   "mimetype": "text/x-python",
   "name": "python",
   "nbconvert_exporter": "python",
   "pygments_lexer": "ipython3",
   "version": "3.12.3"
  }
 },
 "nbformat": 4,
 "nbformat_minor": 2
}
